{
  "cells": [
    {
      "cell_type": "markdown",
      "metadata": {
        "id": "view-in-github",
        "colab_type": "text"
      },
      "source": [
        "<a href=\"https://colab.research.google.com/github/apaz304/AI_with_Python/blob/main/Chapters/Chapter_3.ipynb\" target=\"_parent\"><img src=\"https://colab.research.google.com/assets/colab-badge.svg\" alt=\"Open In Colab\"/></a>"
      ]
    },
    {
      "cell_type": "markdown",
      "metadata": {
        "id": "orh5mvZUZMDj"
      },
      "source": [
        "**AI - Intro**\n",
        "Data management"
      ]
    },
    {
      "cell_type": "code",
      "execution_count": null,
      "metadata": {
        "id": "3VieiiijYv0-"
      },
      "outputs": [],
      "source": [
        "import pandas as pd\n",
        "df = pd.read_csv(\"/content/drive/MyDrive/Metropolia_AI_Python/Data_demos/iris.csv\")"
      ]
    },
    {
      "cell_type": "markdown",
      "metadata": {
        "id": "_ddj1stsZeLi"
      },
      "source": []
    },
    {
      "cell_type": "code",
      "execution_count": null,
      "metadata": {
        "colab": {
          "base_uri": "https://localhost:8080/"
        },
        "id": "wdtNv3vsZk3Z",
        "outputId": "083309f6-ca11-453c-b410-a99d8570b823"
      },
      "outputs": [
        {
          "output_type": "stream",
          "name": "stdout",
          "text": [
            "   sepal.length  sepal.width  petal.length  petal.width variety\n",
            "0           5.1          3.5           1.4          0.2  Setosa\n",
            "1           4.9          3.0           1.4          0.2  Setosa\n",
            "2           4.7          3.2           1.3          0.2  Setosa\n",
            "3           4.6          3.1           1.5          0.2  Setosa\n",
            "4           5.0          3.6           1.4          0.2  Setosa\n",
            "     sepal.length  sepal.width  petal.length  petal.width    variety\n",
            "145           6.7          3.0           5.2          2.3  Virginica\n",
            "146           6.3          2.5           5.0          1.9  Virginica\n",
            "147           6.5          3.0           5.2          2.0  Virginica\n",
            "148           6.2          3.4           5.4          2.3  Virginica\n",
            "149           5.9          3.0           5.1          1.8  Virginica\n",
            "       sepal.length  sepal.width  petal.length  petal.width\n",
            "count    150.000000   150.000000    150.000000   150.000000\n",
            "mean       5.843333     3.057333      3.758000     1.199333\n",
            "std        0.828066     0.435866      1.765298     0.762238\n",
            "min        4.300000     2.000000      1.000000     0.100000\n",
            "25%        5.100000     2.800000      1.600000     0.300000\n",
            "50%        5.800000     3.000000      4.350000     1.300000\n",
            "75%        6.400000     3.300000      5.100000     1.800000\n",
            "max        7.900000     4.400000      6.900000     2.500000\n"
          ]
        }
      ],
      "source": [
        "print(df.head())\n",
        "print(df.tail())\n",
        "print(df.describe())"
      ]
    },
    {
      "cell_type": "code",
      "execution_count": null,
      "metadata": {
        "colab": {
          "base_uri": "https://localhost:8080/"
        },
        "id": "VXTbgzU4ayAV",
        "outputId": "49f8d9b7-be2e-4393-9e72-c15890e9ceb6"
      },
      "outputs": [
        {
          "output_type": "stream",
          "name": "stdout",
          "text": [
            "sepal.length    float64\n",
            "sepal.width     float64\n",
            "petal.length    float64\n",
            "petal.width     float64\n",
            "variety          object\n",
            "dtype: object\n",
            "RangeIndex(start=0, stop=150, step=1)\n",
            "Index(['sepal.length', 'sepal.width', 'petal.length', 'petal.width',\n",
            "       'variety'],\n",
            "      dtype='object')\n",
            "[[5.1 3.5 1.4 0.2 'Setosa']\n",
            " [4.9 3.0 1.4 0.2 'Setosa']\n",
            " [4.7 3.2 1.3 0.2 'Setosa']\n",
            " [4.6 3.1 1.5 0.2 'Setosa']\n",
            " [5.0 3.6 1.4 0.2 'Setosa']\n",
            " [5.4 3.9 1.7 0.4 'Setosa']\n",
            " [4.6 3.4 1.4 0.3 'Setosa']\n",
            " [5.0 3.4 1.5 0.2 'Setosa']\n",
            " [4.4 2.9 1.4 0.2 'Setosa']\n",
            " [4.9 3.1 1.5 0.1 'Setosa']\n",
            " [5.4 3.7 1.5 0.2 'Setosa']\n",
            " [4.8 3.4 1.6 0.2 'Setosa']\n",
            " [4.8 3.0 1.4 0.1 'Setosa']\n",
            " [4.3 3.0 1.1 0.1 'Setosa']\n",
            " [5.8 4.0 1.2 0.2 'Setosa']\n",
            " [5.7 4.4 1.5 0.4 'Setosa']\n",
            " [5.4 3.9 1.3 0.4 'Setosa']\n",
            " [5.1 3.5 1.4 0.3 'Setosa']\n",
            " [5.7 3.8 1.7 0.3 'Setosa']\n",
            " [5.1 3.8 1.5 0.3 'Setosa']\n",
            " [5.4 3.4 1.7 0.2 'Setosa']\n",
            " [5.1 3.7 1.5 0.4 'Setosa']\n",
            " [4.6 3.6 1.0 0.2 'Setosa']\n",
            " [5.1 3.3 1.7 0.5 'Setosa']\n",
            " [4.8 3.4 1.9 0.2 'Setosa']\n",
            " [5.0 3.0 1.6 0.2 'Setosa']\n",
            " [5.0 3.4 1.6 0.4 'Setosa']\n",
            " [5.2 3.5 1.5 0.2 'Setosa']\n",
            " [5.2 3.4 1.4 0.2 'Setosa']\n",
            " [4.7 3.2 1.6 0.2 'Setosa']\n",
            " [4.8 3.1 1.6 0.2 'Setosa']\n",
            " [5.4 3.4 1.5 0.4 'Setosa']\n",
            " [5.2 4.1 1.5 0.1 'Setosa']\n",
            " [5.5 4.2 1.4 0.2 'Setosa']\n",
            " [4.9 3.1 1.5 0.2 'Setosa']\n",
            " [5.0 3.2 1.2 0.2 'Setosa']\n",
            " [5.5 3.5 1.3 0.2 'Setosa']\n",
            " [4.9 3.6 1.4 0.1 'Setosa']\n",
            " [4.4 3.0 1.3 0.2 'Setosa']\n",
            " [5.1 3.4 1.5 0.2 'Setosa']\n",
            " [5.0 3.5 1.3 0.3 'Setosa']\n",
            " [4.5 2.3 1.3 0.3 'Setosa']\n",
            " [4.4 3.2 1.3 0.2 'Setosa']\n",
            " [5.0 3.5 1.6 0.6 'Setosa']\n",
            " [5.1 3.8 1.9 0.4 'Setosa']\n",
            " [4.8 3.0 1.4 0.3 'Setosa']\n",
            " [5.1 3.8 1.6 0.2 'Setosa']\n",
            " [4.6 3.2 1.4 0.2 'Setosa']\n",
            " [5.3 3.7 1.5 0.2 'Setosa']\n",
            " [5.0 3.3 1.4 0.2 'Setosa']\n",
            " [7.0 3.2 4.7 1.4 'Versicolor']\n",
            " [6.4 3.2 4.5 1.5 'Versicolor']\n",
            " [6.9 3.1 4.9 1.5 'Versicolor']\n",
            " [5.5 2.3 4.0 1.3 'Versicolor']\n",
            " [6.5 2.8 4.6 1.5 'Versicolor']\n",
            " [5.7 2.8 4.5 1.3 'Versicolor']\n",
            " [6.3 3.3 4.7 1.6 'Versicolor']\n",
            " [4.9 2.4 3.3 1.0 'Versicolor']\n",
            " [6.6 2.9 4.6 1.3 'Versicolor']\n",
            " [5.2 2.7 3.9 1.4 'Versicolor']\n",
            " [5.0 2.0 3.5 1.0 'Versicolor']\n",
            " [5.9 3.0 4.2 1.5 'Versicolor']\n",
            " [6.0 2.2 4.0 1.0 'Versicolor']\n",
            " [6.1 2.9 4.7 1.4 'Versicolor']\n",
            " [5.6 2.9 3.6 1.3 'Versicolor']\n",
            " [6.7 3.1 4.4 1.4 'Versicolor']\n",
            " [5.6 3.0 4.5 1.5 'Versicolor']\n",
            " [5.8 2.7 4.1 1.0 'Versicolor']\n",
            " [6.2 2.2 4.5 1.5 'Versicolor']\n",
            " [5.6 2.5 3.9 1.1 'Versicolor']\n",
            " [5.9 3.2 4.8 1.8 'Versicolor']\n",
            " [6.1 2.8 4.0 1.3 'Versicolor']\n",
            " [6.3 2.5 4.9 1.5 'Versicolor']\n",
            " [6.1 2.8 4.7 1.2 'Versicolor']\n",
            " [6.4 2.9 4.3 1.3 'Versicolor']\n",
            " [6.6 3.0 4.4 1.4 'Versicolor']\n",
            " [6.8 2.8 4.8 1.4 'Versicolor']\n",
            " [6.7 3.0 5.0 1.7 'Versicolor']\n",
            " [6.0 2.9 4.5 1.5 'Versicolor']\n",
            " [5.7 2.6 3.5 1.0 'Versicolor']\n",
            " [5.5 2.4 3.8 1.1 'Versicolor']\n",
            " [5.5 2.4 3.7 1.0 'Versicolor']\n",
            " [5.8 2.7 3.9 1.2 'Versicolor']\n",
            " [6.0 2.7 5.1 1.6 'Versicolor']\n",
            " [5.4 3.0 4.5 1.5 'Versicolor']\n",
            " [6.0 3.4 4.5 1.6 'Versicolor']\n",
            " [6.7 3.1 4.7 1.5 'Versicolor']\n",
            " [6.3 2.3 4.4 1.3 'Versicolor']\n",
            " [5.6 3.0 4.1 1.3 'Versicolor']\n",
            " [5.5 2.5 4.0 1.3 'Versicolor']\n",
            " [5.5 2.6 4.4 1.2 'Versicolor']\n",
            " [6.1 3.0 4.6 1.4 'Versicolor']\n",
            " [5.8 2.6 4.0 1.2 'Versicolor']\n",
            " [5.0 2.3 3.3 1.0 'Versicolor']\n",
            " [5.6 2.7 4.2 1.3 'Versicolor']\n",
            " [5.7 3.0 4.2 1.2 'Versicolor']\n",
            " [5.7 2.9 4.2 1.3 'Versicolor']\n",
            " [6.2 2.9 4.3 1.3 'Versicolor']\n",
            " [5.1 2.5 3.0 1.1 'Versicolor']\n",
            " [5.7 2.8 4.1 1.3 'Versicolor']\n",
            " [6.3 3.3 6.0 2.5 'Virginica']\n",
            " [5.8 2.7 5.1 1.9 'Virginica']\n",
            " [7.1 3.0 5.9 2.1 'Virginica']\n",
            " [6.3 2.9 5.6 1.8 'Virginica']\n",
            " [6.5 3.0 5.8 2.2 'Virginica']\n",
            " [7.6 3.0 6.6 2.1 'Virginica']\n",
            " [4.9 2.5 4.5 1.7 'Virginica']\n",
            " [7.3 2.9 6.3 1.8 'Virginica']\n",
            " [6.7 2.5 5.8 1.8 'Virginica']\n",
            " [7.2 3.6 6.1 2.5 'Virginica']\n",
            " [6.5 3.2 5.1 2.0 'Virginica']\n",
            " [6.4 2.7 5.3 1.9 'Virginica']\n",
            " [6.8 3.0 5.5 2.1 'Virginica']\n",
            " [5.7 2.5 5.0 2.0 'Virginica']\n",
            " [5.8 2.8 5.1 2.4 'Virginica']\n",
            " [6.4 3.2 5.3 2.3 'Virginica']\n",
            " [6.5 3.0 5.5 1.8 'Virginica']\n",
            " [7.7 3.8 6.7 2.2 'Virginica']\n",
            " [7.7 2.6 6.9 2.3 'Virginica']\n",
            " [6.0 2.2 5.0 1.5 'Virginica']\n",
            " [6.9 3.2 5.7 2.3 'Virginica']\n",
            " [5.6 2.8 4.9 2.0 'Virginica']\n",
            " [7.7 2.8 6.7 2.0 'Virginica']\n",
            " [6.3 2.7 4.9 1.8 'Virginica']\n",
            " [6.7 3.3 5.7 2.1 'Virginica']\n",
            " [7.2 3.2 6.0 1.8 'Virginica']\n",
            " [6.2 2.8 4.8 1.8 'Virginica']\n",
            " [6.1 3.0 4.9 1.8 'Virginica']\n",
            " [6.4 2.8 5.6 2.1 'Virginica']\n",
            " [7.2 3.0 5.8 1.6 'Virginica']\n",
            " [7.4 2.8 6.1 1.9 'Virginica']\n",
            " [7.9 3.8 6.4 2.0 'Virginica']\n",
            " [6.4 2.8 5.6 2.2 'Virginica']\n",
            " [6.3 2.8 5.1 1.5 'Virginica']\n",
            " [6.1 2.6 5.6 1.4 'Virginica']\n",
            " [7.7 3.0 6.1 2.3 'Virginica']\n",
            " [6.3 3.4 5.6 2.4 'Virginica']\n",
            " [6.4 3.1 5.5 1.8 'Virginica']\n",
            " [6.0 3.0 4.8 1.8 'Virginica']\n",
            " [6.9 3.1 5.4 2.1 'Virginica']\n",
            " [6.7 3.1 5.6 2.4 'Virginica']\n",
            " [6.9 3.1 5.1 2.3 'Virginica']\n",
            " [5.8 2.7 5.1 1.9 'Virginica']\n",
            " [6.8 3.2 5.9 2.3 'Virginica']\n",
            " [6.7 3.3 5.7 2.5 'Virginica']\n",
            " [6.7 3.0 5.2 2.3 'Virginica']\n",
            " [6.3 2.5 5.0 1.9 'Virginica']\n",
            " [6.5 3.0 5.2 2.0 'Virginica']\n",
            " [6.2 3.4 5.4 2.3 'Virginica']\n",
            " [5.9 3.0 5.1 1.8 'Virginica']]\n"
          ]
        }
      ],
      "source": [
        "print(df.dtypes)\n",
        "print(df.index)\n",
        "print(df.columns)\n",
        "print(df.values)"
      ]
    },
    {
      "cell_type": "code",
      "source": [
        "df2 = df.sort_values(\"sepal.width\",ascending=False)\n",
        "print(df2)"
      ],
      "metadata": {
        "colab": {
          "base_uri": "https://localhost:8080/"
        },
        "id": "SRe5FdRvFbWm",
        "outputId": "026a1ca6-8b2e-40ba-a3dc-aaa0c2a0e8fc"
      },
      "execution_count": null,
      "outputs": [
        {
          "output_type": "stream",
          "name": "stdout",
          "text": [
            "     sepal.length  sepal.width  petal.length  petal.width     variety\n",
            "15            5.7          4.4           1.5          0.4      Setosa\n",
            "33            5.5          4.2           1.4          0.2      Setosa\n",
            "32            5.2          4.1           1.5          0.1      Setosa\n",
            "14            5.8          4.0           1.2          0.2      Setosa\n",
            "5             5.4          3.9           1.7          0.4      Setosa\n",
            "..            ...          ...           ...          ...         ...\n",
            "53            5.5          2.3           4.0          1.3  Versicolor\n",
            "62            6.0          2.2           4.0          1.0  Versicolor\n",
            "68            6.2          2.2           4.5          1.5  Versicolor\n",
            "119           6.0          2.2           5.0          1.5   Virginica\n",
            "60            5.0          2.0           3.5          1.0  Versicolor\n",
            "\n",
            "[150 rows x 5 columns]\n"
          ]
        }
      ]
    },
    {
      "cell_type": "code",
      "source": [
        "print(df[['sepal.width']]) # slice one column by name\n",
        "print(df[['sepal.width','sepal.length']]) # slice two columns by name"
      ],
      "metadata": {
        "colab": {
          "base_uri": "https://localhost:8080/"
        },
        "id": "E_2rM-NRFwoi",
        "outputId": "ed0e5b88-3929-4b29-d6a8-c163f31eb9d0"
      },
      "execution_count": null,
      "outputs": [
        {
          "output_type": "stream",
          "name": "stdout",
          "text": [
            "     sepal.width\n",
            "0            3.5\n",
            "1            3.0\n",
            "2            3.2\n",
            "3            3.1\n",
            "4            3.6\n",
            "..           ...\n",
            "145          3.0\n",
            "146          2.5\n",
            "147          3.0\n",
            "148          3.4\n",
            "149          3.0\n",
            "\n",
            "[150 rows x 1 columns]\n",
            "     sepal.width  sepal.length\n",
            "0            3.5           5.1\n",
            "1            3.0           4.9\n",
            "2            3.2           4.7\n",
            "3            3.1           4.6\n",
            "4            3.6           5.0\n",
            "..           ...           ...\n",
            "145          3.0           6.7\n",
            "146          2.5           6.3\n",
            "147          3.0           6.5\n",
            "148          3.4           6.2\n",
            "149          3.0           5.9\n",
            "\n",
            "[150 rows x 2 columns]\n"
          ]
        }
      ]
    },
    {
      "cell_type": "code",
      "source": [
        "print(df[2:4]) # slice rows by index, exclusive\n",
        "print(df.loc[2:4,['petal.width','petal.length']]) # slice rows by index and columns by name\n",
        "print(df.iloc[2:4,[0,1]]) # slice row and columns by inde"
      ],
      "metadata": {
        "colab": {
          "base_uri": "https://localhost:8080/"
        },
        "id": "qC8yIYl8GQkj",
        "outputId": "6ab1544a-2661-4698-ba6b-1447925b7126"
      },
      "execution_count": null,
      "outputs": [
        {
          "output_type": "stream",
          "name": "stdout",
          "text": [
            "   sepal.length  sepal.width  petal.length  petal.width variety\n",
            "2           4.7          3.2           1.3          0.2  Setosa\n",
            "3           4.6          3.1           1.5          0.2  Setosa\n",
            "   petal.width  petal.length\n",
            "2          0.2           1.3\n",
            "3          0.2           1.5\n",
            "4          0.2           1.4\n",
            "   sepal.length  sepal.width\n",
            "2           4.7          3.2\n",
            "3           4.6          3.1\n"
          ]
        }
      ]
    },
    {
      "cell_type": "code",
      "source": [
        "print(df[df['sepal.width']>3]) # slicing with logical condition\n",
        "print(df[df['variety'].isin([\"Setosa\"])])"
      ],
      "metadata": {
        "colab": {
          "base_uri": "https://localhost:8080/"
        },
        "id": "FGP_kXysG7et",
        "outputId": "13f10da1-d68f-465e-9847-403d67f101c7"
      },
      "execution_count": null,
      "outputs": [
        {
          "output_type": "stream",
          "name": "stdout",
          "text": [
            "     sepal.length  sepal.width  petal.length  petal.width    variety\n",
            "0             5.1          3.5           1.4          0.2     Setosa\n",
            "2             4.7          3.2           1.3          0.2     Setosa\n",
            "3             4.6          3.1           1.5          0.2     Setosa\n",
            "4             5.0          3.6           1.4          0.2     Setosa\n",
            "5             5.4          3.9           1.7          0.4     Setosa\n",
            "..            ...          ...           ...          ...        ...\n",
            "140           6.7          3.1           5.6          2.4  Virginica\n",
            "141           6.9          3.1           5.1          2.3  Virginica\n",
            "143           6.8          3.2           5.9          2.3  Virginica\n",
            "144           6.7          3.3           5.7          2.5  Virginica\n",
            "148           6.2          3.4           5.4          2.3  Virginica\n",
            "\n",
            "[67 rows x 5 columns]\n",
            "    sepal.length  sepal.width  petal.length  petal.width variety\n",
            "0            5.1          3.5           1.4          0.2  Setosa\n",
            "1            4.9          3.0           1.4          0.2  Setosa\n",
            "2            4.7          3.2           1.3          0.2  Setosa\n",
            "3            4.6          3.1           1.5          0.2  Setosa\n",
            "4            5.0          3.6           1.4          0.2  Setosa\n",
            "5            5.4          3.9           1.7          0.4  Setosa\n",
            "6            4.6          3.4           1.4          0.3  Setosa\n",
            "7            5.0          3.4           1.5          0.2  Setosa\n",
            "8            4.4          2.9           1.4          0.2  Setosa\n",
            "9            4.9          3.1           1.5          0.1  Setosa\n",
            "10           5.4          3.7           1.5          0.2  Setosa\n",
            "11           4.8          3.4           1.6          0.2  Setosa\n",
            "12           4.8          3.0           1.4          0.1  Setosa\n",
            "13           4.3          3.0           1.1          0.1  Setosa\n",
            "14           5.8          4.0           1.2          0.2  Setosa\n",
            "15           5.7          4.4           1.5          0.4  Setosa\n",
            "16           5.4          3.9           1.3          0.4  Setosa\n",
            "17           5.1          3.5           1.4          0.3  Setosa\n",
            "18           5.7          3.8           1.7          0.3  Setosa\n",
            "19           5.1          3.8           1.5          0.3  Setosa\n",
            "20           5.4          3.4           1.7          0.2  Setosa\n",
            "21           5.1          3.7           1.5          0.4  Setosa\n",
            "22           4.6          3.6           1.0          0.2  Setosa\n",
            "23           5.1          3.3           1.7          0.5  Setosa\n",
            "24           4.8          3.4           1.9          0.2  Setosa\n",
            "25           5.0          3.0           1.6          0.2  Setosa\n",
            "26           5.0          3.4           1.6          0.4  Setosa\n",
            "27           5.2          3.5           1.5          0.2  Setosa\n",
            "28           5.2          3.4           1.4          0.2  Setosa\n",
            "29           4.7          3.2           1.6          0.2  Setosa\n",
            "30           4.8          3.1           1.6          0.2  Setosa\n",
            "31           5.4          3.4           1.5          0.4  Setosa\n",
            "32           5.2          4.1           1.5          0.1  Setosa\n",
            "33           5.5          4.2           1.4          0.2  Setosa\n",
            "34           4.9          3.1           1.5          0.2  Setosa\n",
            "35           5.0          3.2           1.2          0.2  Setosa\n",
            "36           5.5          3.5           1.3          0.2  Setosa\n",
            "37           4.9          3.6           1.4          0.1  Setosa\n",
            "38           4.4          3.0           1.3          0.2  Setosa\n",
            "39           5.1          3.4           1.5          0.2  Setosa\n",
            "40           5.0          3.5           1.3          0.3  Setosa\n",
            "41           4.5          2.3           1.3          0.3  Setosa\n",
            "42           4.4          3.2           1.3          0.2  Setosa\n",
            "43           5.0          3.5           1.6          0.6  Setosa\n",
            "44           5.1          3.8           1.9          0.4  Setosa\n",
            "45           4.8          3.0           1.4          0.3  Setosa\n",
            "46           5.1          3.8           1.6          0.2  Setosa\n",
            "47           4.6          3.2           1.4          0.2  Setosa\n",
            "48           5.3          3.7           1.5          0.2  Setosa\n",
            "49           5.0          3.3           1.4          0.2  Setosa\n"
          ]
        }
      ]
    },
    {
      "cell_type": "code",
      "source": [
        "df['sepal_area'] = df['sepal.length']*df['sepal.width']\n",
        "print(df)\n",
        "df['zeros'] = 0.0\n",
        "print(df)"
      ],
      "metadata": {
        "colab": {
          "base_uri": "https://localhost:8080/"
        },
        "id": "n0qKYJAGOC3S",
        "outputId": "1e318fa8-2877-4e61-f722-3e825fd0bc1c"
      },
      "execution_count": null,
      "outputs": [
        {
          "output_type": "stream",
          "name": "stdout",
          "text": [
            "     sepal.length  sepal.width  petal.length  petal.width    variety  \\\n",
            "0             5.1          3.5           1.4          0.2     Setosa   \n",
            "1             4.9          3.0           1.4          0.2     Setosa   \n",
            "2             4.7          3.2           1.3          0.2     Setosa   \n",
            "3             4.6          3.1           1.5          0.2     Setosa   \n",
            "4             5.0          3.6           1.4          0.2     Setosa   \n",
            "..            ...          ...           ...          ...        ...   \n",
            "145           6.7          3.0           5.2          2.3  Virginica   \n",
            "146           6.3          2.5           5.0          1.9  Virginica   \n",
            "147           6.5          3.0           5.2          2.0  Virginica   \n",
            "148           6.2          3.4           5.4          2.3  Virginica   \n",
            "149           5.9          3.0           5.1          1.8  Virginica   \n",
            "\n",
            "     sepal_area  \n",
            "0         17.85  \n",
            "1         14.70  \n",
            "2         15.04  \n",
            "3         14.26  \n",
            "4         18.00  \n",
            "..          ...  \n",
            "145       20.10  \n",
            "146       15.75  \n",
            "147       19.50  \n",
            "148       21.08  \n",
            "149       17.70  \n",
            "\n",
            "[150 rows x 6 columns]\n",
            "     sepal.length  sepal.width  petal.length  petal.width    variety  \\\n",
            "0             5.1          3.5           1.4          0.2     Setosa   \n",
            "1             4.9          3.0           1.4          0.2     Setosa   \n",
            "2             4.7          3.2           1.3          0.2     Setosa   \n",
            "3             4.6          3.1           1.5          0.2     Setosa   \n",
            "4             5.0          3.6           1.4          0.2     Setosa   \n",
            "..            ...          ...           ...          ...        ...   \n",
            "145           6.7          3.0           5.2          2.3  Virginica   \n",
            "146           6.3          2.5           5.0          1.9  Virginica   \n",
            "147           6.5          3.0           5.2          2.0  Virginica   \n",
            "148           6.2          3.4           5.4          2.3  Virginica   \n",
            "149           5.9          3.0           5.1          1.8  Virginica   \n",
            "\n",
            "     sepal_area  zeros  \n",
            "0         17.85    0.0  \n",
            "1         14.70    0.0  \n",
            "2         15.04    0.0  \n",
            "3         14.26    0.0  \n",
            "4         18.00    0.0  \n",
            "..          ...    ...  \n",
            "145       20.10    0.0  \n",
            "146       15.75    0.0  \n",
            "147       19.50    0.0  \n",
            "148       21.08    0.0  \n",
            "149       17.70    0.0  \n",
            "\n",
            "[150 rows x 7 columns]\n"
          ]
        }
      ]
    },
    {
      "cell_type": "code",
      "source": [
        "df = df.drop(['zeros'],axis=1)\n",
        "print(df)"
      ],
      "metadata": {
        "colab": {
          "base_uri": "https://localhost:8080/"
        },
        "id": "yDnctst4Opj_",
        "outputId": "c8c56ef1-9e7d-4b99-f03c-2de7970ce950"
      },
      "execution_count": null,
      "outputs": [
        {
          "output_type": "stream",
          "name": "stdout",
          "text": [
            "     sepal.length  sepal.width  petal.length  petal.width    variety  \\\n",
            "0             5.1          3.5           1.4          0.2     Setosa   \n",
            "1             4.9          3.0           1.4          0.2     Setosa   \n",
            "2             4.7          3.2           1.3          0.2     Setosa   \n",
            "3             4.6          3.1           1.5          0.2     Setosa   \n",
            "4             5.0          3.6           1.4          0.2     Setosa   \n",
            "..            ...          ...           ...          ...        ...   \n",
            "145           6.7          3.0           5.2          2.3  Virginica   \n",
            "146           6.3          2.5           5.0          1.9  Virginica   \n",
            "147           6.5          3.0           5.2          2.0  Virginica   \n",
            "148           6.2          3.4           5.4          2.3  Virginica   \n",
            "149           5.9          3.0           5.1          1.8  Virginica   \n",
            "\n",
            "     sepal_area  \n",
            "0         17.85  \n",
            "1         14.70  \n",
            "2         15.04  \n",
            "3         14.26  \n",
            "4         18.00  \n",
            "..          ...  \n",
            "145       20.10  \n",
            "146       15.75  \n",
            "147       19.50  \n",
            "148       21.08  \n",
            "149       17.70  \n",
            "\n",
            "[150 rows x 6 columns]\n"
          ]
        }
      ]
    },
    {
      "cell_type": "code",
      "source": [
        "df.rename(columns = {'sepal_area':'sep_ar'},inplace=True)\n",
        "print(df.head())\n",
        "df.columns = ['col1','col2','col3','col4','col5','col6']\n",
        "print(df.head())"
      ],
      "metadata": {
        "colab": {
          "base_uri": "https://localhost:8080/"
        },
        "id": "FG5iJgN2O3j2",
        "outputId": "3e9a16ad-6798-4d8f-8274-60e16b3dd4d0"
      },
      "execution_count": null,
      "outputs": [
        {
          "output_type": "stream",
          "name": "stdout",
          "text": [
            "   sepal.length  sepal.width  petal.length  petal.width variety  sep_ar\n",
            "0           5.1          3.5           1.4          0.2  Setosa   17.85\n",
            "1           4.9          3.0           1.4          0.2  Setosa   14.70\n",
            "2           4.7          3.2           1.3          0.2  Setosa   15.04\n",
            "3           4.6          3.1           1.5          0.2  Setosa   14.26\n",
            "4           5.0          3.6           1.4          0.2  Setosa   18.00\n",
            "   col1  col2  col3  col4    col5   col6\n",
            "0   5.1   3.5   1.4   0.2  Setosa  17.85\n",
            "1   4.9   3.0   1.4   0.2  Setosa  14.70\n",
            "2   4.7   3.2   1.3   0.2  Setosa  15.04\n",
            "3   4.6   3.1   1.5   0.2  Setosa  14.26\n",
            "4   5.0   3.6   1.4   0.2  Setosa  18.00\n"
          ]
        }
      ]
    },
    {
      "cell_type": "code",
      "source": [
        "to_append = [7.0,4.0,5.5,6.6,\"Setosa\",28.0]\n",
        "a_series = pd.Series(to_append, index = df.columns)\n",
        "df = pd.concat([df, pd.DataFrame([a_series])], ignore_index=True)\n",
        "print(df)"
      ],
      "metadata": {
        "colab": {
          "base_uri": "https://localhost:8080/"
        },
        "id": "vXfE2z8XPHBh",
        "outputId": "33e7ffb5-00e5-451b-c426-f6fba145eb3f"
      },
      "execution_count": null,
      "outputs": [
        {
          "output_type": "stream",
          "name": "stdout",
          "text": [
            "     col1  col2  col3  col4       col5   col6\n",
            "0     5.1   3.5   1.4   0.2     Setosa  17.85\n",
            "1     4.9   3.0   1.4   0.2     Setosa  14.70\n",
            "2     4.7   3.2   1.3   0.2     Setosa  15.04\n",
            "3     4.6   3.1   1.5   0.2     Setosa  14.26\n",
            "4     5.0   3.6   1.4   0.2     Setosa  18.00\n",
            "..    ...   ...   ...   ...        ...    ...\n",
            "147   6.5   3.0   5.2   2.0  Virginica  19.50\n",
            "148   6.2   3.4   5.4   2.3  Virginica  21.08\n",
            "149   5.9   3.0   5.1   1.8  Virginica  17.70\n",
            "150   7.0   4.0   5.5   6.6     Setosa  28.00\n",
            "151   7.0   4.0   5.5   6.6     Setosa  28.00\n",
            "\n",
            "[152 rows x 6 columns]\n"
          ]
        }
      ]
    },
    {
      "cell_type": "code",
      "source": [
        "for ind, row in df.iterrows():\n",
        "    print(ind,row['col2'])"
      ],
      "metadata": {
        "colab": {
          "base_uri": "https://localhost:8080/"
        },
        "id": "PhRQF1yLQ2Ug",
        "outputId": "0732f819-389c-4491-abe4-e258cec92afa"
      },
      "execution_count": null,
      "outputs": [
        {
          "output_type": "stream",
          "name": "stdout",
          "text": [
            "0 3.5\n",
            "1 3.0\n",
            "2 3.2\n",
            "3 3.1\n",
            "4 3.6\n",
            "5 3.9\n",
            "6 3.4\n",
            "7 3.4\n",
            "8 2.9\n",
            "9 3.1\n",
            "10 3.7\n",
            "11 3.4\n",
            "12 3.0\n",
            "13 3.0\n",
            "14 4.0\n",
            "15 4.4\n",
            "16 3.9\n",
            "17 3.5\n",
            "18 3.8\n",
            "19 3.8\n",
            "20 3.4\n",
            "21 3.7\n",
            "22 3.6\n",
            "23 3.3\n",
            "24 3.4\n",
            "25 3.0\n",
            "26 3.4\n",
            "27 3.5\n",
            "28 3.4\n",
            "29 3.2\n",
            "30 3.1\n",
            "31 3.4\n",
            "32 4.1\n",
            "33 4.2\n",
            "34 3.1\n",
            "35 3.2\n",
            "36 3.5\n",
            "37 3.6\n",
            "38 3.0\n",
            "39 3.4\n",
            "40 3.5\n",
            "41 2.3\n",
            "42 3.2\n",
            "43 3.5\n",
            "44 3.8\n",
            "45 3.0\n",
            "46 3.8\n",
            "47 3.2\n",
            "48 3.7\n",
            "49 3.3\n",
            "50 3.2\n",
            "51 3.2\n",
            "52 3.1\n",
            "53 2.3\n",
            "54 2.8\n",
            "55 2.8\n",
            "56 3.3\n",
            "57 2.4\n",
            "58 2.9\n",
            "59 2.7\n",
            "60 2.0\n",
            "61 3.0\n",
            "62 2.2\n",
            "63 2.9\n",
            "64 2.9\n",
            "65 3.1\n",
            "66 3.0\n",
            "67 2.7\n",
            "68 2.2\n",
            "69 2.5\n",
            "70 3.2\n",
            "71 2.8\n",
            "72 2.5\n",
            "73 2.8\n",
            "74 2.9\n",
            "75 3.0\n",
            "76 2.8\n",
            "77 3.0\n",
            "78 2.9\n",
            "79 2.6\n",
            "80 2.4\n",
            "81 2.4\n",
            "82 2.7\n",
            "83 2.7\n",
            "84 3.0\n",
            "85 3.4\n",
            "86 3.1\n",
            "87 2.3\n",
            "88 3.0\n",
            "89 2.5\n",
            "90 2.6\n",
            "91 3.0\n",
            "92 2.6\n",
            "93 2.3\n",
            "94 2.7\n",
            "95 3.0\n",
            "96 2.9\n",
            "97 2.9\n",
            "98 2.5\n",
            "99 2.8\n",
            "100 3.3\n",
            "101 2.7\n",
            "102 3.0\n",
            "103 2.9\n",
            "104 3.0\n",
            "105 3.0\n",
            "106 2.5\n",
            "107 2.9\n",
            "108 2.5\n",
            "109 3.6\n",
            "110 3.2\n",
            "111 2.7\n",
            "112 3.0\n",
            "113 2.5\n",
            "114 2.8\n",
            "115 3.2\n",
            "116 3.0\n",
            "117 3.8\n",
            "118 2.6\n",
            "119 2.2\n",
            "120 3.2\n",
            "121 2.8\n",
            "122 2.8\n",
            "123 2.7\n",
            "124 3.3\n",
            "125 3.2\n",
            "126 2.8\n",
            "127 3.0\n",
            "128 2.8\n",
            "129 3.0\n",
            "130 2.8\n",
            "131 3.8\n",
            "132 2.8\n",
            "133 2.8\n",
            "134 2.6\n",
            "135 3.0\n",
            "136 3.4\n",
            "137 3.1\n",
            "138 3.0\n",
            "139 3.1\n",
            "140 3.1\n",
            "141 3.1\n",
            "142 2.7\n",
            "143 3.2\n",
            "144 3.3\n",
            "145 3.0\n",
            "146 2.5\n",
            "147 3.0\n",
            "148 3.4\n",
            "149 3.0\n",
            "150 4.0\n",
            "151 4.0\n"
          ]
        }
      ]
    },
    {
      "cell_type": "code",
      "source": [
        "df.to_csv(\"iris_new.csv\")"
      ],
      "metadata": {
        "id": "he4l2dzDRFiI"
      },
      "execution_count": null,
      "outputs": []
    }
  ],
  "metadata": {
    "colab": {
      "provenance": [],
      "toc_visible": true,
      "mount_file_id": "110az8teHznh9XzX-u1fUdhX_iIh7KNNf",
      "authorship_tag": "ABX9TyPN5323FVGNoC5Y68TmuTC/",
      "include_colab_link": true
    },
    "kernelspec": {
      "display_name": "Python 3",
      "name": "python3"
    },
    "language_info": {
      "name": "python"
    }
  },
  "nbformat": 4,
  "nbformat_minor": 0
}